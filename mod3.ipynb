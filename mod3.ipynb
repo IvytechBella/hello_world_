{
 "cells": [
  {
   "cell_type": "code",
   "execution_count": 4,
   "id": "624ed6ef-c691-4494-ab0f-08585a4ace14",
   "metadata": {},
   "outputs": [
    {
     "name": "stdout",
     "output_type": "stream",
     "text": [
      "['mozzarella', 'cinderella', 'salmonella']\n"
     ]
    }
   ],
   "source": [
    "#7.4\n",
    "\n",
    "things = [\"mozzarella\", \"cinderella\", \"salmonella\"]\n",
    "print(things)\n"
   ]
  },
  {
   "cell_type": "code",
   "execution_count": 12,
   "id": "50fb17db-ecf5-4d71-96ee-dd3b6749f9cd",
   "metadata": {},
   "outputs": [
    {
     "data": {
      "text/plain": [
       "['mozzarella', 'cinderella', 'salmonella']"
      ]
     },
     "execution_count": 12,
     "metadata": {},
     "output_type": "execute_result"
    }
   ],
   "source": [
    "#7.5\n",
    "# It did not change the element in the list. \"cinderella\" remains unchanged.\n",
    "\n",
    "things[1].capitalize()\n",
    "'Cinderella'\n",
    "things\n",
    "['mozzarella', 'cinderella', 'salmonella']"
   ]
  },
  {
   "cell_type": "code",
   "execution_count": 14,
   "id": "9d76e61c-763f-40e1-a23e-91014bf15e2e",
   "metadata": {},
   "outputs": [
    {
     "name": "stdout",
     "output_type": "stream",
     "text": [
      "['MOZZARELLA', 'cinderella', 'salmonella']\n"
     ]
    }
   ],
   "source": [
    "#7.6\n",
    "\n",
    "things = [\"mozzarella\", \"cinderella\", \"salmonella\"]\n",
    "things[0] = things[0].upper()\n",
    "print(things)\n"
   ]
  },
  {
   "cell_type": "code",
   "execution_count": 24,
   "id": "fe840e5c-694c-441c-8cc4-fbbb3af56cd4",
   "metadata": {},
   "outputs": [
    {
     "name": "stdout",
     "output_type": "stream",
     "text": [
      "['MOZZARELLA', 'Cinderella']\n"
     ]
    }
   ],
   "source": [
    "#7.7\n",
    "\n",
    "things = [\"MOZZARELLA\", \"Cinderella\", \"salmonella\"]\n",
    "things.remove(\"salmonella\")\n",
    "print(things)\n"
   ]
  },
  {
   "cell_type": "code",
   "execution_count": 28,
   "id": "846b9d2f-9768-4445-a190-c3c98caa4f74",
   "metadata": {},
   "outputs": [
    {
     "name": "stdout",
     "output_type": "stream",
     "text": [
      "['Harry', 'Ron', 'Hermione']\n"
     ]
    }
   ],
   "source": [
    "#9.1\n",
    "\n",
    "def good():\n",
    "    return ['Harry', 'Ron', 'Hermione']\n",
    "print(good())\n"
   ]
  },
  {
   "cell_type": "code",
   "execution_count": 30,
   "id": "02b0a007-64ae-44f9-afc6-02ba9c239154",
   "metadata": {},
   "outputs": [
    {
     "name": "stdout",
     "output_type": "stream",
     "text": [
      "The third odd number is 5\n"
     ]
    }
   ],
   "source": [
    "#9.2\n",
    "\n",
    "def get_odds():\n",
    "    for number in range(1, 10, 2):\n",
    "        yield number\n",
    "\n",
    "count = 1\n",
    "for number in get_odds():\n",
    "    if count == 3:\n",
    "        print(\"The third odd number is\", number)\n",
    "        break\n",
    "    count += 1\n"
   ]
  }
 ],
 "metadata": {
  "kernelspec": {
   "display_name": "Python 3 (ipykernel)",
   "language": "python",
   "name": "python3"
  },
  "language_info": {
   "codemirror_mode": {
    "name": "ipython",
    "version": 3
   },
   "file_extension": ".py",
   "mimetype": "text/x-python",
   "name": "python",
   "nbconvert_exporter": "python",
   "pygments_lexer": "ipython3",
   "version": "3.12.7"
  }
 },
 "nbformat": 4,
 "nbformat_minor": 5
}
