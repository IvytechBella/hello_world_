{
 "cells": [
  {
   "cell_type": "code",
   "execution_count": null,
   "id": "07747253-99d2-41b0-ba12-f175145f363e",
   "metadata": {},
   "outputs": [],
   "source": [
    "class Solution:\n",
    "    def binarysearch(self, arr, k):\n",
    "        low = 0\n",
    "        high = len(arr) - 1\n",
    "        \n",
    "        while low <= high:\n",
    "            mid = (low + high) // 2\n",
    "            \n",
    "            if arr[mid] == k:\n",
    "                return mid\n",
    "        \n",
    "            elif arr[mid] > k:\n",
    "                high = mid - 1\n",
    "            \n",
    "            elif arr[mid] < k:\n",
    "                low = mid + 1\n",
    "            \n",
    "        return -1"
   ]
  },
  {
   "cell_type": "code",
   "execution_count": null,
   "id": "522f1bba-dbae-401c-91b5-509301c4a8b8",
   "metadata": {},
   "outputs": [],
   "source": [
    "class Solution:\n",
    "    # Function to sort an array of 0s, 1s, and 2s\n",
    "    def sort012(self, arr):\n",
    "        # code here\n",
    "        n = len(arr)\n",
    "        lo = 0\n",
    "        hi = n - 1\n",
    "        mid = 0\n",
    "        \n",
    "        while mid <= hi:\n",
    "            if arr[mid] == 0:\n",
    "                arr[lo], arr[mid] = arr[mid], arr[lo]\n",
    "                lo = lo + 1\n",
    "                mid = mid + 1\n",
    "                \n",
    "            elif arr[mid] == 1:\n",
    "                mid = mid + 1\n",
    "                \n",
    "            else:\n",
    "                arr[mid], arr[hi] = arr[hi], arr[mid]\n",
    "                hi = hi - 1\n",
    "                \n",
    "        return arr"
   ]
  }
 ],
 "metadata": {
  "kernelspec": {
   "display_name": "Python 3 (ipykernel)",
   "language": "python",
   "name": "python3"
  },
  "language_info": {
   "codemirror_mode": {
    "name": "ipython",
    "version": 3
   },
   "file_extension": ".py",
   "mimetype": "text/x-python",
   "name": "python",
   "nbconvert_exporter": "python",
   "pygments_lexer": "ipython3",
   "version": "3.12.4"
  }
 },
 "nbformat": 4,
 "nbformat_minor": 5
}
